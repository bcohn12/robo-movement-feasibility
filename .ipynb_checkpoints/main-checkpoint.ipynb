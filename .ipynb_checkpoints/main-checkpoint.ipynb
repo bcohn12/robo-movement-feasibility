{
 "cells": [
  {
   "cell_type": "code",
   "execution_count": 1,
   "metadata": {
    "collapsed": true
   },
   "outputs": [],
   "source": [
    "import numpy as np\n",
    "import pandas as pd\n"
   ]
  },
  {
   "cell_type": "code",
   "execution_count": 17,
   "metadata": {
    "collapsed": true
   },
   "outputs": [],
   "source": []
  },
  {
   "cell_type": "code",
   "execution_count": 18,
   "metadata": {
    "collapsed": false
   },
   "outputs": [
    {
     "ename": "ImportError",
     "evalue": "No module named 'Arm'",
     "output_type": "error",
     "traceback": [
      "\u001b[0;31m---------------------------------------------------------------------------\u001b[0m",
      "\u001b[0;31mImportError\u001b[0m                               Traceback (most recent call last)",
      "\u001b[0;32m<ipython-input-18-2697beb5378a>\u001b[0m in \u001b[0;36m<module>\u001b[0;34m()\u001b[0m\n\u001b[1;32m     17\u001b[0m \u001b[0;32mimport\u001b[0m \u001b[0mtime\u001b[0m\u001b[0;34m\u001b[0m\u001b[0m\n\u001b[1;32m     18\u001b[0m \u001b[0;34m\u001b[0m\u001b[0m\n\u001b[0;32m---> 19\u001b[0;31m \u001b[0;32mimport\u001b[0m \u001b[0mArm\u001b[0m\u001b[0;34m\u001b[0m\u001b[0m\n\u001b[0m\u001b[1;32m     20\u001b[0m \u001b[0;34m\u001b[0m\u001b[0m\n\u001b[1;32m     21\u001b[0m \u001b[0;32mdef\u001b[0m \u001b[0mplot\u001b[0m\u001b[0;34m(\u001b[0m\u001b[0;34m)\u001b[0m\u001b[0;34m:\u001b[0m\u001b[0;34m\u001b[0m\u001b[0m\n",
      "\u001b[0;31mImportError\u001b[0m: No module named 'Arm'"
     ]
    }
   ],
   "source": [
    "'''\n",
    "Copyright (C) 2013 Travis DeWolf\n",
    "This program is free software: you can redistribute it and/or modify\n",
    "it under the terms of the GNU General Public License as published by\n",
    "the Free Software Foundation, either version 3 of the License, or\n",
    "(at your option) any later version.\n",
    "This program is distributed in the hope that it will be useful,\n",
    "but WITHOUT ANY WARRANTY; without even the implied warranty of\n",
    "MERCHANTABILITY or FITNESS FOR A PARTICULAR PURPOSE.  See the\n",
    "GNU General Public License for more details.\n",
    "You should have received a copy of the GNU General Public License\n",
    "along with this program.  If not, see <http://www.gnu.org/licenses/>.\n",
    "'''\n",
    "\n",
    "import numpy as np\n",
    "import pyglet\n",
    "import time\n",
    "\n",
    "import Arm\n",
    "\n",
    "def plot(): \n",
    "    \"\"\"A function for plotting an arm, and having it calculate the \n",
    "    inverse kinematics such that given the mouse (x, y) position it \n",
    "    finds the appropriate joint angles to reach that point.\"\"\"\n",
    "\n",
    "    # create an instance of the arm\n",
    "    arm = Arm.Arm3Link(L = np.array([300,200,100]))\n",
    "\n",
    "    # make our window for drawin'\n",
    "    window = pyglet.window.Window()\n",
    "\n",
    "    label = pyglet.text.Label('Mouse (x,y)', font_name='Times New Roman', \n",
    "        font_size=36, x=window.width//2, y=window.height//2,\n",
    "        anchor_x='center', anchor_y='center')\n",
    "\n",
    "    def get_joint_positions():\n",
    "        \"\"\"This method finds the (x,y) coordinates of each joint\"\"\"\n",
    "\n",
    "        x = np.array([ 0, \n",
    "            arm.L[0]*np.cos(arm.q[0]),\n",
    "            arm.L[0]*np.cos(arm.q[0]) + arm.L[1]*np.cos(arm.q[0]+arm.q[1]),\n",
    "            arm.L[0]*np.cos(arm.q[0]) + arm.L[1]*np.cos(arm.q[0]+arm.q[1]) + \n",
    "                arm.L[2]*np.cos(np.sum(arm.q)) ]) + window.width/2\n",
    "\n",
    "        y = np.array([ 0, \n",
    "            arm.L[0]*np.sin(arm.q[0]),\n",
    "            arm.L[0]*np.sin(arm.q[0]) + arm.L[1]*np.sin(arm.q[0]+arm.q[1]),\n",
    "            arm.L[0]*np.sin(arm.q[0]) + arm.L[1]*np.sin(arm.q[0]+arm.q[1]) + \n",
    "                arm.L[2]*np.sin(np.sum(arm.q)) ])\n",
    "\n",
    "        return np.array([x, y]).astype('int')\n",
    "    \n",
    "    window.jps = get_joint_positions()\n",
    "\n",
    "    @window.event\n",
    "    def on_draw():\n",
    "        window.clear()\n",
    "        label.draw()\n",
    "        for i in range(3): \n",
    "            pyglet.graphics.draw(2, pyglet.gl.GL_LINES, ('v2i', \n",
    "                (window.jps[0][i], window.jps[1][i], \n",
    "                 window.jps[0][i+1], window.jps[1][i+1])))\n",
    "\n",
    "    @window.event\n",
    "    def on_mouse_motion(x, y, dx, dy):\n",
    "        # call the inverse kinematics function of the arm\n",
    "        # to find the joint angles optimal for pointing at \n",
    "        # this position of the mouse \n",
    "        label.text = '(x,y) = (%.3f, %.3f)'%(x,y)\n",
    "        arm.q = arm.inv_kin([x - window.width/2, y]) # get new arm angles\n",
    "        window.jps = get_joint_positions() # get new joint (x,y) positions\n",
    "\n",
    "    pyglet.app.run()\n",
    "\n",
    "plot()"
   ]
  },
  {
   "cell_type": "code",
   "execution_count": null,
   "metadata": {
    "collapsed": false
   },
   "outputs": [],
   "source": []
  },
  {
   "cell_type": "code",
   "execution_count": null,
   "metadata": {
    "collapsed": false
   },
   "outputs": [],
   "source": []
  },
  {
   "cell_type": "code",
   "execution_count": null,
   "metadata": {
    "collapsed": true
   },
   "outputs": [],
   "source": []
  },
  {
   "cell_type": "code",
   "execution_count": null,
   "metadata": {
    "collapsed": true
   },
   "outputs": [],
   "source": []
  },
  {
   "cell_type": "code",
   "execution_count": null,
   "metadata": {
    "collapsed": true
   },
   "outputs": [],
   "source": []
  }
 ],
 "metadata": {
  "kernelspec": {
   "display_name": "Python 3",
   "language": "python",
   "name": "python3"
  },
  "language_info": {
   "codemirror_mode": {
    "name": "ipython",
    "version": 3
   },
   "file_extension": ".py",
   "mimetype": "text/x-python",
   "name": "python",
   "nbconvert_exporter": "python",
   "pygments_lexer": "ipython3",
   "version": "3.4.5"
  }
 },
 "nbformat": 4,
 "nbformat_minor": 0
}
